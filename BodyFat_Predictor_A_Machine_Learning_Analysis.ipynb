{
  "nbformat": 4,
  "nbformat_minor": 0,
  "metadata": {
    "colab": {
      "provenance": []
    },
    "kernelspec": {
      "name": "python3",
      "display_name": "Python 3"
    },
    "language_info": {
      "name": "python"
    }
  },
  "cells": [
    {
      "cell_type": "markdown",
      "source": [
        "# **Problem Statement**\n",
        "\n",
        "Develop a machine learning model to accurately predict body fat percentage using the available features in the dataset."
      ],
      "metadata": {
        "id": "-0RdG7j7Cf8s"
      }
    },
    {
      "cell_type": "markdown",
      "source": [
        "# Dataset Exploration and Preprocessing"
      ],
      "metadata": {
        "id": "nGTgy_RnC8iH"
      }
    },
    {
      "cell_type": "code",
      "execution_count": 1,
      "metadata": {
        "id": "4W1XAJi5-zux"
      },
      "outputs": [],
      "source": [
        "import numpy as np\n",
        "import pandas as pd\n",
        "import matplotlib.pyplot as plt\n",
        "import seaborn as sns\n",
        "from sklearn.model_selection import train_test_split, cross_val_score\n",
        "from sklearn.preprocessing import StandardScaler\n",
        "from sklearn.linear_model import LinearRegression\n",
        "from sklearn.tree import DecisionTreeRegressor\n",
        "from sklearn.ensemble import RandomForestRegressor\n",
        "from sklearn.metrics import mean_absolute_error, mean_squared_error, r2_score"
      ]
    },
    {
      "cell_type": "code",
      "source": [
        "# Link to dataset: https://www.kaggle.com/datasets/fedesoriano/body-fat-prediction-dataset\n",
        "df = pd.read_csv('bodyfat.csv')"
      ],
      "metadata": {
        "id": "FCYFNu6c_sDa"
      },
      "execution_count": 2,
      "outputs": []
    },
    {
      "cell_type": "markdown",
      "source": [
        "### Dataset Content\n",
        "    Density determined from underwater weighing\n",
        "    Percent body fat from Siri's (1956) equation\n",
        "    Age (years)\n",
        "    Weight (lbs)\n",
        "    Height (inches)\n",
        "    Neck circumference (cm)\n",
        "    Chest circumference (cm)\n",
        "    Abdomen 2 circumference (cm)\n",
        "    Hip circumference (cm)\n",
        "    Thigh circumference (cm)\n",
        "    Knee circumference (cm)\n",
        "    Ankle circumference (cm)\n",
        "    Biceps (extended) circumference (cm)\n",
        "    Forearm circumference (cm)\n",
        "    Wrist circumference (cm)\n"
      ],
      "metadata": {
        "id": "a36hHkzr_gGC"
      }
    },
    {
      "cell_type": "code",
      "source": [
        "df.head() # Display the first few rows"
      ],
      "metadata": {
        "colab": {
          "base_uri": "https://localhost:8080/",
          "height": 206
        },
        "id": "bNbMeVGRDfZ6",
        "outputId": "c4a446e9-984e-4281-a3c4-33ff3249b8ea"
      },
      "execution_count": 3,
      "outputs": [
        {
          "output_type": "execute_result",
          "data": {
            "text/plain": [
              "   Density  BodyFat  Age  Weight  Height  Neck  Chest  Abdomen    Hip  Thigh  \\\n",
              "0   1.0708     12.3   23  154.25   67.75  36.2   93.1     85.2   94.5   59.0   \n",
              "1   1.0853      6.1   22  173.25   72.25  38.5   93.6     83.0   98.7   58.7   \n",
              "2   1.0414     25.3   22  154.00   66.25  34.0   95.8     87.9   99.2   59.6   \n",
              "3   1.0751     10.4   26  184.75   72.25  37.4  101.8     86.4  101.2   60.1   \n",
              "4   1.0340     28.7   24  184.25   71.25  34.4   97.3    100.0  101.9   63.2   \n",
              "\n",
              "   Knee  Ankle  Biceps  Forearm  Wrist  \n",
              "0  37.3   21.9    32.0     27.4   17.1  \n",
              "1  37.3   23.4    30.5     28.9   18.2  \n",
              "2  38.9   24.0    28.8     25.2   16.6  \n",
              "3  37.3   22.8    32.4     29.4   18.2  \n",
              "4  42.2   24.0    32.2     27.7   17.7  "
            ],
            "text/html": [
              "\n",
              "  <div id=\"df-09c18013-9160-4c67-a9a4-77ce94eff9be\">\n",
              "    <div class=\"colab-df-container\">\n",
              "      <div>\n",
              "<style scoped>\n",
              "    .dataframe tbody tr th:only-of-type {\n",
              "        vertical-align: middle;\n",
              "    }\n",
              "\n",
              "    .dataframe tbody tr th {\n",
              "        vertical-align: top;\n",
              "    }\n",
              "\n",
              "    .dataframe thead th {\n",
              "        text-align: right;\n",
              "    }\n",
              "</style>\n",
              "<table border=\"1\" class=\"dataframe\">\n",
              "  <thead>\n",
              "    <tr style=\"text-align: right;\">\n",
              "      <th></th>\n",
              "      <th>Density</th>\n",
              "      <th>BodyFat</th>\n",
              "      <th>Age</th>\n",
              "      <th>Weight</th>\n",
              "      <th>Height</th>\n",
              "      <th>Neck</th>\n",
              "      <th>Chest</th>\n",
              "      <th>Abdomen</th>\n",
              "      <th>Hip</th>\n",
              "      <th>Thigh</th>\n",
              "      <th>Knee</th>\n",
              "      <th>Ankle</th>\n",
              "      <th>Biceps</th>\n",
              "      <th>Forearm</th>\n",
              "      <th>Wrist</th>\n",
              "    </tr>\n",
              "  </thead>\n",
              "  <tbody>\n",
              "    <tr>\n",
              "      <th>0</th>\n",
              "      <td>1.0708</td>\n",
              "      <td>12.3</td>\n",
              "      <td>23</td>\n",
              "      <td>154.25</td>\n",
              "      <td>67.75</td>\n",
              "      <td>36.2</td>\n",
              "      <td>93.1</td>\n",
              "      <td>85.2</td>\n",
              "      <td>94.5</td>\n",
              "      <td>59.0</td>\n",
              "      <td>37.3</td>\n",
              "      <td>21.9</td>\n",
              "      <td>32.0</td>\n",
              "      <td>27.4</td>\n",
              "      <td>17.1</td>\n",
              "    </tr>\n",
              "    <tr>\n",
              "      <th>1</th>\n",
              "      <td>1.0853</td>\n",
              "      <td>6.1</td>\n",
              "      <td>22</td>\n",
              "      <td>173.25</td>\n",
              "      <td>72.25</td>\n",
              "      <td>38.5</td>\n",
              "      <td>93.6</td>\n",
              "      <td>83.0</td>\n",
              "      <td>98.7</td>\n",
              "      <td>58.7</td>\n",
              "      <td>37.3</td>\n",
              "      <td>23.4</td>\n",
              "      <td>30.5</td>\n",
              "      <td>28.9</td>\n",
              "      <td>18.2</td>\n",
              "    </tr>\n",
              "    <tr>\n",
              "      <th>2</th>\n",
              "      <td>1.0414</td>\n",
              "      <td>25.3</td>\n",
              "      <td>22</td>\n",
              "      <td>154.00</td>\n",
              "      <td>66.25</td>\n",
              "      <td>34.0</td>\n",
              "      <td>95.8</td>\n",
              "      <td>87.9</td>\n",
              "      <td>99.2</td>\n",
              "      <td>59.6</td>\n",
              "      <td>38.9</td>\n",
              "      <td>24.0</td>\n",
              "      <td>28.8</td>\n",
              "      <td>25.2</td>\n",
              "      <td>16.6</td>\n",
              "    </tr>\n",
              "    <tr>\n",
              "      <th>3</th>\n",
              "      <td>1.0751</td>\n",
              "      <td>10.4</td>\n",
              "      <td>26</td>\n",
              "      <td>184.75</td>\n",
              "      <td>72.25</td>\n",
              "      <td>37.4</td>\n",
              "      <td>101.8</td>\n",
              "      <td>86.4</td>\n",
              "      <td>101.2</td>\n",
              "      <td>60.1</td>\n",
              "      <td>37.3</td>\n",
              "      <td>22.8</td>\n",
              "      <td>32.4</td>\n",
              "      <td>29.4</td>\n",
              "      <td>18.2</td>\n",
              "    </tr>\n",
              "    <tr>\n",
              "      <th>4</th>\n",
              "      <td>1.0340</td>\n",
              "      <td>28.7</td>\n",
              "      <td>24</td>\n",
              "      <td>184.25</td>\n",
              "      <td>71.25</td>\n",
              "      <td>34.4</td>\n",
              "      <td>97.3</td>\n",
              "      <td>100.0</td>\n",
              "      <td>101.9</td>\n",
              "      <td>63.2</td>\n",
              "      <td>42.2</td>\n",
              "      <td>24.0</td>\n",
              "      <td>32.2</td>\n",
              "      <td>27.7</td>\n",
              "      <td>17.7</td>\n",
              "    </tr>\n",
              "  </tbody>\n",
              "</table>\n",
              "</div>\n",
              "      <button class=\"colab-df-convert\" onclick=\"convertToInteractive('df-09c18013-9160-4c67-a9a4-77ce94eff9be')\"\n",
              "              title=\"Convert this dataframe to an interactive table.\"\n",
              "              style=\"display:none;\">\n",
              "        \n",
              "  <svg xmlns=\"http://www.w3.org/2000/svg\" height=\"24px\"viewBox=\"0 0 24 24\"\n",
              "       width=\"24px\">\n",
              "    <path d=\"M0 0h24v24H0V0z\" fill=\"none\"/>\n",
              "    <path d=\"M18.56 5.44l.94 2.06.94-2.06 2.06-.94-2.06-.94-.94-2.06-.94 2.06-2.06.94zm-11 1L8.5 8.5l.94-2.06 2.06-.94-2.06-.94L8.5 2.5l-.94 2.06-2.06.94zm10 10l.94 2.06.94-2.06 2.06-.94-2.06-.94-.94-2.06-.94 2.06-2.06.94z\"/><path d=\"M17.41 7.96l-1.37-1.37c-.4-.4-.92-.59-1.43-.59-.52 0-1.04.2-1.43.59L10.3 9.45l-7.72 7.72c-.78.78-.78 2.05 0 2.83L4 21.41c.39.39.9.59 1.41.59.51 0 1.02-.2 1.41-.59l7.78-7.78 2.81-2.81c.8-.78.8-2.07 0-2.86zM5.41 20L4 18.59l7.72-7.72 1.47 1.35L5.41 20z\"/>\n",
              "  </svg>\n",
              "      </button>\n",
              "      \n",
              "  <style>\n",
              "    .colab-df-container {\n",
              "      display:flex;\n",
              "      flex-wrap:wrap;\n",
              "      gap: 12px;\n",
              "    }\n",
              "\n",
              "    .colab-df-convert {\n",
              "      background-color: #E8F0FE;\n",
              "      border: none;\n",
              "      border-radius: 50%;\n",
              "      cursor: pointer;\n",
              "      display: none;\n",
              "      fill: #1967D2;\n",
              "      height: 32px;\n",
              "      padding: 0 0 0 0;\n",
              "      width: 32px;\n",
              "    }\n",
              "\n",
              "    .colab-df-convert:hover {\n",
              "      background-color: #E2EBFA;\n",
              "      box-shadow: 0px 1px 2px rgba(60, 64, 67, 0.3), 0px 1px 3px 1px rgba(60, 64, 67, 0.15);\n",
              "      fill: #174EA6;\n",
              "    }\n",
              "\n",
              "    [theme=dark] .colab-df-convert {\n",
              "      background-color: #3B4455;\n",
              "      fill: #D2E3FC;\n",
              "    }\n",
              "\n",
              "    [theme=dark] .colab-df-convert:hover {\n",
              "      background-color: #434B5C;\n",
              "      box-shadow: 0px 1px 3px 1px rgba(0, 0, 0, 0.15);\n",
              "      filter: drop-shadow(0px 1px 2px rgba(0, 0, 0, 0.3));\n",
              "      fill: #FFFFFF;\n",
              "    }\n",
              "  </style>\n",
              "\n",
              "      <script>\n",
              "        const buttonEl =\n",
              "          document.querySelector('#df-09c18013-9160-4c67-a9a4-77ce94eff9be button.colab-df-convert');\n",
              "        buttonEl.style.display =\n",
              "          google.colab.kernel.accessAllowed ? 'block' : 'none';\n",
              "\n",
              "        async function convertToInteractive(key) {\n",
              "          const element = document.querySelector('#df-09c18013-9160-4c67-a9a4-77ce94eff9be');\n",
              "          const dataTable =\n",
              "            await google.colab.kernel.invokeFunction('convertToInteractive',\n",
              "                                                     [key], {});\n",
              "          if (!dataTable) return;\n",
              "\n",
              "          const docLinkHtml = 'Like what you see? Visit the ' +\n",
              "            '<a target=\"_blank\" href=https://colab.research.google.com/notebooks/data_table.ipynb>data table notebook</a>'\n",
              "            + ' to learn more about interactive tables.';\n",
              "          element.innerHTML = '';\n",
              "          dataTable['output_type'] = 'display_data';\n",
              "          await google.colab.output.renderOutput(dataTable, element);\n",
              "          const docLink = document.createElement('div');\n",
              "          docLink.innerHTML = docLinkHtml;\n",
              "          element.appendChild(docLink);\n",
              "        }\n",
              "      </script>\n",
              "    </div>\n",
              "  </div>\n",
              "  "
            ]
          },
          "metadata": {},
          "execution_count": 3
        }
      ]
    },
    {
      "cell_type": "code",
      "source": [
        "df.tail() # Display the last few rows"
      ],
      "metadata": {
        "colab": {
          "base_uri": "https://localhost:8080/",
          "height": 206
        },
        "id": "UchwGeQjDpWl",
        "outputId": "9b5a0c42-adb5-4580-e4af-5927201b7082"
      },
      "execution_count": 4,
      "outputs": [
        {
          "output_type": "execute_result",
          "data": {
            "text/plain": [
              "     Density  BodyFat  Age  Weight  Height  Neck  Chest  Abdomen    Hip  \\\n",
              "247   1.0736     11.0   70  134.25   67.00  34.9   89.2     83.6   88.8   \n",
              "248   1.0236     33.6   72  201.00   69.75  40.9  108.5    105.0  104.5   \n",
              "249   1.0328     29.3   72  186.75   66.00  38.9  111.1    111.5  101.7   \n",
              "250   1.0399     26.0   72  190.75   70.50  38.9  108.3    101.3   97.8   \n",
              "251   1.0271     31.9   74  207.50   70.00  40.8  112.4    108.5  107.1   \n",
              "\n",
              "     Thigh  Knee  Ankle  Biceps  Forearm  Wrist  \n",
              "247   49.6  34.8   21.5    25.6     25.7   18.5  \n",
              "248   59.6  40.8   23.2    35.2     28.6   20.1  \n",
              "249   60.3  37.3   21.5    31.3     27.2   18.0  \n",
              "250   56.0  41.6   22.7    30.5     29.4   19.8  \n",
              "251   59.3  42.2   24.6    33.7     30.0   20.9  "
            ],
            "text/html": [
              "\n",
              "  <div id=\"df-edbb5e8f-97aa-4a97-a770-4ce3d0bff1ba\">\n",
              "    <div class=\"colab-df-container\">\n",
              "      <div>\n",
              "<style scoped>\n",
              "    .dataframe tbody tr th:only-of-type {\n",
              "        vertical-align: middle;\n",
              "    }\n",
              "\n",
              "    .dataframe tbody tr th {\n",
              "        vertical-align: top;\n",
              "    }\n",
              "\n",
              "    .dataframe thead th {\n",
              "        text-align: right;\n",
              "    }\n",
              "</style>\n",
              "<table border=\"1\" class=\"dataframe\">\n",
              "  <thead>\n",
              "    <tr style=\"text-align: right;\">\n",
              "      <th></th>\n",
              "      <th>Density</th>\n",
              "      <th>BodyFat</th>\n",
              "      <th>Age</th>\n",
              "      <th>Weight</th>\n",
              "      <th>Height</th>\n",
              "      <th>Neck</th>\n",
              "      <th>Chest</th>\n",
              "      <th>Abdomen</th>\n",
              "      <th>Hip</th>\n",
              "      <th>Thigh</th>\n",
              "      <th>Knee</th>\n",
              "      <th>Ankle</th>\n",
              "      <th>Biceps</th>\n",
              "      <th>Forearm</th>\n",
              "      <th>Wrist</th>\n",
              "    </tr>\n",
              "  </thead>\n",
              "  <tbody>\n",
              "    <tr>\n",
              "      <th>247</th>\n",
              "      <td>1.0736</td>\n",
              "      <td>11.0</td>\n",
              "      <td>70</td>\n",
              "      <td>134.25</td>\n",
              "      <td>67.00</td>\n",
              "      <td>34.9</td>\n",
              "      <td>89.2</td>\n",
              "      <td>83.6</td>\n",
              "      <td>88.8</td>\n",
              "      <td>49.6</td>\n",
              "      <td>34.8</td>\n",
              "      <td>21.5</td>\n",
              "      <td>25.6</td>\n",
              "      <td>25.7</td>\n",
              "      <td>18.5</td>\n",
              "    </tr>\n",
              "    <tr>\n",
              "      <th>248</th>\n",
              "      <td>1.0236</td>\n",
              "      <td>33.6</td>\n",
              "      <td>72</td>\n",
              "      <td>201.00</td>\n",
              "      <td>69.75</td>\n",
              "      <td>40.9</td>\n",
              "      <td>108.5</td>\n",
              "      <td>105.0</td>\n",
              "      <td>104.5</td>\n",
              "      <td>59.6</td>\n",
              "      <td>40.8</td>\n",
              "      <td>23.2</td>\n",
              "      <td>35.2</td>\n",
              "      <td>28.6</td>\n",
              "      <td>20.1</td>\n",
              "    </tr>\n",
              "    <tr>\n",
              "      <th>249</th>\n",
              "      <td>1.0328</td>\n",
              "      <td>29.3</td>\n",
              "      <td>72</td>\n",
              "      <td>186.75</td>\n",
              "      <td>66.00</td>\n",
              "      <td>38.9</td>\n",
              "      <td>111.1</td>\n",
              "      <td>111.5</td>\n",
              "      <td>101.7</td>\n",
              "      <td>60.3</td>\n",
              "      <td>37.3</td>\n",
              "      <td>21.5</td>\n",
              "      <td>31.3</td>\n",
              "      <td>27.2</td>\n",
              "      <td>18.0</td>\n",
              "    </tr>\n",
              "    <tr>\n",
              "      <th>250</th>\n",
              "      <td>1.0399</td>\n",
              "      <td>26.0</td>\n",
              "      <td>72</td>\n",
              "      <td>190.75</td>\n",
              "      <td>70.50</td>\n",
              "      <td>38.9</td>\n",
              "      <td>108.3</td>\n",
              "      <td>101.3</td>\n",
              "      <td>97.8</td>\n",
              "      <td>56.0</td>\n",
              "      <td>41.6</td>\n",
              "      <td>22.7</td>\n",
              "      <td>30.5</td>\n",
              "      <td>29.4</td>\n",
              "      <td>19.8</td>\n",
              "    </tr>\n",
              "    <tr>\n",
              "      <th>251</th>\n",
              "      <td>1.0271</td>\n",
              "      <td>31.9</td>\n",
              "      <td>74</td>\n",
              "      <td>207.50</td>\n",
              "      <td>70.00</td>\n",
              "      <td>40.8</td>\n",
              "      <td>112.4</td>\n",
              "      <td>108.5</td>\n",
              "      <td>107.1</td>\n",
              "      <td>59.3</td>\n",
              "      <td>42.2</td>\n",
              "      <td>24.6</td>\n",
              "      <td>33.7</td>\n",
              "      <td>30.0</td>\n",
              "      <td>20.9</td>\n",
              "    </tr>\n",
              "  </tbody>\n",
              "</table>\n",
              "</div>\n",
              "      <button class=\"colab-df-convert\" onclick=\"convertToInteractive('df-edbb5e8f-97aa-4a97-a770-4ce3d0bff1ba')\"\n",
              "              title=\"Convert this dataframe to an interactive table.\"\n",
              "              style=\"display:none;\">\n",
              "        \n",
              "  <svg xmlns=\"http://www.w3.org/2000/svg\" height=\"24px\"viewBox=\"0 0 24 24\"\n",
              "       width=\"24px\">\n",
              "    <path d=\"M0 0h24v24H0V0z\" fill=\"none\"/>\n",
              "    <path d=\"M18.56 5.44l.94 2.06.94-2.06 2.06-.94-2.06-.94-.94-2.06-.94 2.06-2.06.94zm-11 1L8.5 8.5l.94-2.06 2.06-.94-2.06-.94L8.5 2.5l-.94 2.06-2.06.94zm10 10l.94 2.06.94-2.06 2.06-.94-2.06-.94-.94-2.06-.94 2.06-2.06.94z\"/><path d=\"M17.41 7.96l-1.37-1.37c-.4-.4-.92-.59-1.43-.59-.52 0-1.04.2-1.43.59L10.3 9.45l-7.72 7.72c-.78.78-.78 2.05 0 2.83L4 21.41c.39.39.9.59 1.41.59.51 0 1.02-.2 1.41-.59l7.78-7.78 2.81-2.81c.8-.78.8-2.07 0-2.86zM5.41 20L4 18.59l7.72-7.72 1.47 1.35L5.41 20z\"/>\n",
              "  </svg>\n",
              "      </button>\n",
              "      \n",
              "  <style>\n",
              "    .colab-df-container {\n",
              "      display:flex;\n",
              "      flex-wrap:wrap;\n",
              "      gap: 12px;\n",
              "    }\n",
              "\n",
              "    .colab-df-convert {\n",
              "      background-color: #E8F0FE;\n",
              "      border: none;\n",
              "      border-radius: 50%;\n",
              "      cursor: pointer;\n",
              "      display: none;\n",
              "      fill: #1967D2;\n",
              "      height: 32px;\n",
              "      padding: 0 0 0 0;\n",
              "      width: 32px;\n",
              "    }\n",
              "\n",
              "    .colab-df-convert:hover {\n",
              "      background-color: #E2EBFA;\n",
              "      box-shadow: 0px 1px 2px rgba(60, 64, 67, 0.3), 0px 1px 3px 1px rgba(60, 64, 67, 0.15);\n",
              "      fill: #174EA6;\n",
              "    }\n",
              "\n",
              "    [theme=dark] .colab-df-convert {\n",
              "      background-color: #3B4455;\n",
              "      fill: #D2E3FC;\n",
              "    }\n",
              "\n",
              "    [theme=dark] .colab-df-convert:hover {\n",
              "      background-color: #434B5C;\n",
              "      box-shadow: 0px 1px 3px 1px rgba(0, 0, 0, 0.15);\n",
              "      filter: drop-shadow(0px 1px 2px rgba(0, 0, 0, 0.3));\n",
              "      fill: #FFFFFF;\n",
              "    }\n",
              "  </style>\n",
              "\n",
              "      <script>\n",
              "        const buttonEl =\n",
              "          document.querySelector('#df-edbb5e8f-97aa-4a97-a770-4ce3d0bff1ba button.colab-df-convert');\n",
              "        buttonEl.style.display =\n",
              "          google.colab.kernel.accessAllowed ? 'block' : 'none';\n",
              "\n",
              "        async function convertToInteractive(key) {\n",
              "          const element = document.querySelector('#df-edbb5e8f-97aa-4a97-a770-4ce3d0bff1ba');\n",
              "          const dataTable =\n",
              "            await google.colab.kernel.invokeFunction('convertToInteractive',\n",
              "                                                     [key], {});\n",
              "          if (!dataTable) return;\n",
              "\n",
              "          const docLinkHtml = 'Like what you see? Visit the ' +\n",
              "            '<a target=\"_blank\" href=https://colab.research.google.com/notebooks/data_table.ipynb>data table notebook</a>'\n",
              "            + ' to learn more about interactive tables.';\n",
              "          element.innerHTML = '';\n",
              "          dataTable['output_type'] = 'display_data';\n",
              "          await google.colab.output.renderOutput(dataTable, element);\n",
              "          const docLink = document.createElement('div');\n",
              "          docLink.innerHTML = docLinkHtml;\n",
              "          element.appendChild(docLink);\n",
              "        }\n",
              "      </script>\n",
              "    </div>\n",
              "  </div>\n",
              "  "
            ]
          },
          "metadata": {},
          "execution_count": 4
        }
      ]
    },
    {
      "cell_type": "code",
      "source": [
        "df.info() # Display summary information about the DataFrame"
      ],
      "metadata": {
        "colab": {
          "base_uri": "https://localhost:8080/"
        },
        "id": "mctOX_SBDzQV",
        "outputId": "3404a8c5-91e1-478a-cd0d-303a13ec4bf2"
      },
      "execution_count": 5,
      "outputs": [
        {
          "output_type": "stream",
          "name": "stdout",
          "text": [
            "<class 'pandas.core.frame.DataFrame'>\n",
            "RangeIndex: 252 entries, 0 to 251\n",
            "Data columns (total 15 columns):\n",
            " #   Column   Non-Null Count  Dtype  \n",
            "---  ------   --------------  -----  \n",
            " 0   Density  252 non-null    float64\n",
            " 1   BodyFat  252 non-null    float64\n",
            " 2   Age      252 non-null    int64  \n",
            " 3   Weight   252 non-null    float64\n",
            " 4   Height   252 non-null    float64\n",
            " 5   Neck     252 non-null    float64\n",
            " 6   Chest    252 non-null    float64\n",
            " 7   Abdomen  252 non-null    float64\n",
            " 8   Hip      252 non-null    float64\n",
            " 9   Thigh    252 non-null    float64\n",
            " 10  Knee     252 non-null    float64\n",
            " 11  Ankle    252 non-null    float64\n",
            " 12  Biceps   252 non-null    float64\n",
            " 13  Forearm  252 non-null    float64\n",
            " 14  Wrist    252 non-null    float64\n",
            "dtypes: float64(14), int64(1)\n",
            "memory usage: 29.7 KB\n"
          ]
        }
      ]
    },
    {
      "cell_type": "code",
      "source": [
        "df.describe() # Display statistical summary of the DataFrame"
      ],
      "metadata": {
        "colab": {
          "base_uri": "https://localhost:8080/",
          "height": 300
        },
        "id": "vBYtLkD0D1K7",
        "outputId": "9b33ce72-82a7-40c0-ea8c-aacb2686fc4b"
      },
      "execution_count": 6,
      "outputs": [
        {
          "output_type": "execute_result",
          "data": {
            "text/plain": [
              "          Density     BodyFat         Age      Weight      Height        Neck  \\\n",
              "count  252.000000  252.000000  252.000000  252.000000  252.000000  252.000000   \n",
              "mean     1.055574   19.150794   44.884921  178.924405   70.148810   37.992063   \n",
              "std      0.019031    8.368740   12.602040   29.389160    3.662856    2.430913   \n",
              "min      0.995000    0.000000   22.000000  118.500000   29.500000   31.100000   \n",
              "25%      1.041400   12.475000   35.750000  159.000000   68.250000   36.400000   \n",
              "50%      1.054900   19.200000   43.000000  176.500000   70.000000   38.000000   \n",
              "75%      1.070400   25.300000   54.000000  197.000000   72.250000   39.425000   \n",
              "max      1.108900   47.500000   81.000000  363.150000   77.750000   51.200000   \n",
              "\n",
              "            Chest     Abdomen         Hip       Thigh        Knee       Ankle  \\\n",
              "count  252.000000  252.000000  252.000000  252.000000  252.000000  252.000000   \n",
              "mean   100.824206   92.555952   99.904762   59.405952   38.590476   23.102381   \n",
              "std      8.430476   10.783077    7.164058    5.249952    2.411805    1.694893   \n",
              "min     79.300000   69.400000   85.000000   47.200000   33.000000   19.100000   \n",
              "25%     94.350000   84.575000   95.500000   56.000000   36.975000   22.000000   \n",
              "50%     99.650000   90.950000   99.300000   59.000000   38.500000   22.800000   \n",
              "75%    105.375000   99.325000  103.525000   62.350000   39.925000   24.000000   \n",
              "max    136.200000  148.100000  147.700000   87.300000   49.100000   33.900000   \n",
              "\n",
              "           Biceps     Forearm       Wrist  \n",
              "count  252.000000  252.000000  252.000000  \n",
              "mean    32.273413   28.663889   18.229762  \n",
              "std      3.021274    2.020691    0.933585  \n",
              "min     24.800000   21.000000   15.800000  \n",
              "25%     30.200000   27.300000   17.600000  \n",
              "50%     32.050000   28.700000   18.300000  \n",
              "75%     34.325000   30.000000   18.800000  \n",
              "max     45.000000   34.900000   21.400000  "
            ],
            "text/html": [
              "\n",
              "  <div id=\"df-fa2f7a6f-bc04-4d0e-9aa5-57d91cc7b07e\">\n",
              "    <div class=\"colab-df-container\">\n",
              "      <div>\n",
              "<style scoped>\n",
              "    .dataframe tbody tr th:only-of-type {\n",
              "        vertical-align: middle;\n",
              "    }\n",
              "\n",
              "    .dataframe tbody tr th {\n",
              "        vertical-align: top;\n",
              "    }\n",
              "\n",
              "    .dataframe thead th {\n",
              "        text-align: right;\n",
              "    }\n",
              "</style>\n",
              "<table border=\"1\" class=\"dataframe\">\n",
              "  <thead>\n",
              "    <tr style=\"text-align: right;\">\n",
              "      <th></th>\n",
              "      <th>Density</th>\n",
              "      <th>BodyFat</th>\n",
              "      <th>Age</th>\n",
              "      <th>Weight</th>\n",
              "      <th>Height</th>\n",
              "      <th>Neck</th>\n",
              "      <th>Chest</th>\n",
              "      <th>Abdomen</th>\n",
              "      <th>Hip</th>\n",
              "      <th>Thigh</th>\n",
              "      <th>Knee</th>\n",
              "      <th>Ankle</th>\n",
              "      <th>Biceps</th>\n",
              "      <th>Forearm</th>\n",
              "      <th>Wrist</th>\n",
              "    </tr>\n",
              "  </thead>\n",
              "  <tbody>\n",
              "    <tr>\n",
              "      <th>count</th>\n",
              "      <td>252.000000</td>\n",
              "      <td>252.000000</td>\n",
              "      <td>252.000000</td>\n",
              "      <td>252.000000</td>\n",
              "      <td>252.000000</td>\n",
              "      <td>252.000000</td>\n",
              "      <td>252.000000</td>\n",
              "      <td>252.000000</td>\n",
              "      <td>252.000000</td>\n",
              "      <td>252.000000</td>\n",
              "      <td>252.000000</td>\n",
              "      <td>252.000000</td>\n",
              "      <td>252.000000</td>\n",
              "      <td>252.000000</td>\n",
              "      <td>252.000000</td>\n",
              "    </tr>\n",
              "    <tr>\n",
              "      <th>mean</th>\n",
              "      <td>1.055574</td>\n",
              "      <td>19.150794</td>\n",
              "      <td>44.884921</td>\n",
              "      <td>178.924405</td>\n",
              "      <td>70.148810</td>\n",
              "      <td>37.992063</td>\n",
              "      <td>100.824206</td>\n",
              "      <td>92.555952</td>\n",
              "      <td>99.904762</td>\n",
              "      <td>59.405952</td>\n",
              "      <td>38.590476</td>\n",
              "      <td>23.102381</td>\n",
              "      <td>32.273413</td>\n",
              "      <td>28.663889</td>\n",
              "      <td>18.229762</td>\n",
              "    </tr>\n",
              "    <tr>\n",
              "      <th>std</th>\n",
              "      <td>0.019031</td>\n",
              "      <td>8.368740</td>\n",
              "      <td>12.602040</td>\n",
              "      <td>29.389160</td>\n",
              "      <td>3.662856</td>\n",
              "      <td>2.430913</td>\n",
              "      <td>8.430476</td>\n",
              "      <td>10.783077</td>\n",
              "      <td>7.164058</td>\n",
              "      <td>5.249952</td>\n",
              "      <td>2.411805</td>\n",
              "      <td>1.694893</td>\n",
              "      <td>3.021274</td>\n",
              "      <td>2.020691</td>\n",
              "      <td>0.933585</td>\n",
              "    </tr>\n",
              "    <tr>\n",
              "      <th>min</th>\n",
              "      <td>0.995000</td>\n",
              "      <td>0.000000</td>\n",
              "      <td>22.000000</td>\n",
              "      <td>118.500000</td>\n",
              "      <td>29.500000</td>\n",
              "      <td>31.100000</td>\n",
              "      <td>79.300000</td>\n",
              "      <td>69.400000</td>\n",
              "      <td>85.000000</td>\n",
              "      <td>47.200000</td>\n",
              "      <td>33.000000</td>\n",
              "      <td>19.100000</td>\n",
              "      <td>24.800000</td>\n",
              "      <td>21.000000</td>\n",
              "      <td>15.800000</td>\n",
              "    </tr>\n",
              "    <tr>\n",
              "      <th>25%</th>\n",
              "      <td>1.041400</td>\n",
              "      <td>12.475000</td>\n",
              "      <td>35.750000</td>\n",
              "      <td>159.000000</td>\n",
              "      <td>68.250000</td>\n",
              "      <td>36.400000</td>\n",
              "      <td>94.350000</td>\n",
              "      <td>84.575000</td>\n",
              "      <td>95.500000</td>\n",
              "      <td>56.000000</td>\n",
              "      <td>36.975000</td>\n",
              "      <td>22.000000</td>\n",
              "      <td>30.200000</td>\n",
              "      <td>27.300000</td>\n",
              "      <td>17.600000</td>\n",
              "    </tr>\n",
              "    <tr>\n",
              "      <th>50%</th>\n",
              "      <td>1.054900</td>\n",
              "      <td>19.200000</td>\n",
              "      <td>43.000000</td>\n",
              "      <td>176.500000</td>\n",
              "      <td>70.000000</td>\n",
              "      <td>38.000000</td>\n",
              "      <td>99.650000</td>\n",
              "      <td>90.950000</td>\n",
              "      <td>99.300000</td>\n",
              "      <td>59.000000</td>\n",
              "      <td>38.500000</td>\n",
              "      <td>22.800000</td>\n",
              "      <td>32.050000</td>\n",
              "      <td>28.700000</td>\n",
              "      <td>18.300000</td>\n",
              "    </tr>\n",
              "    <tr>\n",
              "      <th>75%</th>\n",
              "      <td>1.070400</td>\n",
              "      <td>25.300000</td>\n",
              "      <td>54.000000</td>\n",
              "      <td>197.000000</td>\n",
              "      <td>72.250000</td>\n",
              "      <td>39.425000</td>\n",
              "      <td>105.375000</td>\n",
              "      <td>99.325000</td>\n",
              "      <td>103.525000</td>\n",
              "      <td>62.350000</td>\n",
              "      <td>39.925000</td>\n",
              "      <td>24.000000</td>\n",
              "      <td>34.325000</td>\n",
              "      <td>30.000000</td>\n",
              "      <td>18.800000</td>\n",
              "    </tr>\n",
              "    <tr>\n",
              "      <th>max</th>\n",
              "      <td>1.108900</td>\n",
              "      <td>47.500000</td>\n",
              "      <td>81.000000</td>\n",
              "      <td>363.150000</td>\n",
              "      <td>77.750000</td>\n",
              "      <td>51.200000</td>\n",
              "      <td>136.200000</td>\n",
              "      <td>148.100000</td>\n",
              "      <td>147.700000</td>\n",
              "      <td>87.300000</td>\n",
              "      <td>49.100000</td>\n",
              "      <td>33.900000</td>\n",
              "      <td>45.000000</td>\n",
              "      <td>34.900000</td>\n",
              "      <td>21.400000</td>\n",
              "    </tr>\n",
              "  </tbody>\n",
              "</table>\n",
              "</div>\n",
              "      <button class=\"colab-df-convert\" onclick=\"convertToInteractive('df-fa2f7a6f-bc04-4d0e-9aa5-57d91cc7b07e')\"\n",
              "              title=\"Convert this dataframe to an interactive table.\"\n",
              "              style=\"display:none;\">\n",
              "        \n",
              "  <svg xmlns=\"http://www.w3.org/2000/svg\" height=\"24px\"viewBox=\"0 0 24 24\"\n",
              "       width=\"24px\">\n",
              "    <path d=\"M0 0h24v24H0V0z\" fill=\"none\"/>\n",
              "    <path d=\"M18.56 5.44l.94 2.06.94-2.06 2.06-.94-2.06-.94-.94-2.06-.94 2.06-2.06.94zm-11 1L8.5 8.5l.94-2.06 2.06-.94-2.06-.94L8.5 2.5l-.94 2.06-2.06.94zm10 10l.94 2.06.94-2.06 2.06-.94-2.06-.94-.94-2.06-.94 2.06-2.06.94z\"/><path d=\"M17.41 7.96l-1.37-1.37c-.4-.4-.92-.59-1.43-.59-.52 0-1.04.2-1.43.59L10.3 9.45l-7.72 7.72c-.78.78-.78 2.05 0 2.83L4 21.41c.39.39.9.59 1.41.59.51 0 1.02-.2 1.41-.59l7.78-7.78 2.81-2.81c.8-.78.8-2.07 0-2.86zM5.41 20L4 18.59l7.72-7.72 1.47 1.35L5.41 20z\"/>\n",
              "  </svg>\n",
              "      </button>\n",
              "      \n",
              "  <style>\n",
              "    .colab-df-container {\n",
              "      display:flex;\n",
              "      flex-wrap:wrap;\n",
              "      gap: 12px;\n",
              "    }\n",
              "\n",
              "    .colab-df-convert {\n",
              "      background-color: #E8F0FE;\n",
              "      border: none;\n",
              "      border-radius: 50%;\n",
              "      cursor: pointer;\n",
              "      display: none;\n",
              "      fill: #1967D2;\n",
              "      height: 32px;\n",
              "      padding: 0 0 0 0;\n",
              "      width: 32px;\n",
              "    }\n",
              "\n",
              "    .colab-df-convert:hover {\n",
              "      background-color: #E2EBFA;\n",
              "      box-shadow: 0px 1px 2px rgba(60, 64, 67, 0.3), 0px 1px 3px 1px rgba(60, 64, 67, 0.15);\n",
              "      fill: #174EA6;\n",
              "    }\n",
              "\n",
              "    [theme=dark] .colab-df-convert {\n",
              "      background-color: #3B4455;\n",
              "      fill: #D2E3FC;\n",
              "    }\n",
              "\n",
              "    [theme=dark] .colab-df-convert:hover {\n",
              "      background-color: #434B5C;\n",
              "      box-shadow: 0px 1px 3px 1px rgba(0, 0, 0, 0.15);\n",
              "      filter: drop-shadow(0px 1px 2px rgba(0, 0, 0, 0.3));\n",
              "      fill: #FFFFFF;\n",
              "    }\n",
              "  </style>\n",
              "\n",
              "      <script>\n",
              "        const buttonEl =\n",
              "          document.querySelector('#df-fa2f7a6f-bc04-4d0e-9aa5-57d91cc7b07e button.colab-df-convert');\n",
              "        buttonEl.style.display =\n",
              "          google.colab.kernel.accessAllowed ? 'block' : 'none';\n",
              "\n",
              "        async function convertToInteractive(key) {\n",
              "          const element = document.querySelector('#df-fa2f7a6f-bc04-4d0e-9aa5-57d91cc7b07e');\n",
              "          const dataTable =\n",
              "            await google.colab.kernel.invokeFunction('convertToInteractive',\n",
              "                                                     [key], {});\n",
              "          if (!dataTable) return;\n",
              "\n",
              "          const docLinkHtml = 'Like what you see? Visit the ' +\n",
              "            '<a target=\"_blank\" href=https://colab.research.google.com/notebooks/data_table.ipynb>data table notebook</a>'\n",
              "            + ' to learn more about interactive tables.';\n",
              "          element.innerHTML = '';\n",
              "          dataTable['output_type'] = 'display_data';\n",
              "          await google.colab.output.renderOutput(dataTable, element);\n",
              "          const docLink = document.createElement('div');\n",
              "          docLink.innerHTML = docLinkHtml;\n",
              "          element.appendChild(docLink);\n",
              "        }\n",
              "      </script>\n",
              "    </div>\n",
              "  </div>\n",
              "  "
            ]
          },
          "metadata": {},
          "execution_count": 6
        }
      ]
    },
    {
      "cell_type": "code",
      "source": [
        "print(df.isnull().sum()) # Display the number of missing values for each column"
      ],
      "metadata": {
        "colab": {
          "base_uri": "https://localhost:8080/"
        },
        "id": "277zRjjyD4Qt",
        "outputId": "9e97ab8e-96d1-42bd-c718-a7c15c10e189"
      },
      "execution_count": 7,
      "outputs": [
        {
          "output_type": "stream",
          "name": "stdout",
          "text": [
            "Density    0\n",
            "BodyFat    0\n",
            "Age        0\n",
            "Weight     0\n",
            "Height     0\n",
            "Neck       0\n",
            "Chest      0\n",
            "Abdomen    0\n",
            "Hip        0\n",
            "Thigh      0\n",
            "Knee       0\n",
            "Ankle      0\n",
            "Biceps     0\n",
            "Forearm    0\n",
            "Wrist      0\n",
            "dtype: int64\n"
          ]
        }
      ]
    },
    {
      "cell_type": "code",
      "source": [
        "# Check for values of body fat % less than 1\n",
        "print(df[df['BodyFat'] < 1])"
      ],
      "metadata": {
        "colab": {
          "base_uri": "https://localhost:8080/"
        },
        "id": "zdE3nx_qEwvj",
        "outputId": "802ba88a-b0dd-48a7-e459-a12d79ce13af"
      },
      "execution_count": 8,
      "outputs": [
        {
          "output_type": "stream",
          "name": "stdout",
          "text": [
            "     Density  BodyFat  Age  Weight  Height  Neck  Chest  Abdomen   Hip  Thigh  \\\n",
            "171   1.0983      0.7   35  125.75    65.5  34.0   90.8     75.0  89.2   50.0   \n",
            "181   1.1089      0.0   40  118.50    68.0  33.8   79.3     69.4  85.0   47.2   \n",
            "\n",
            "     Knee  Ankle  Biceps  Forearm  Wrist  \n",
            "171  34.8   22.0    24.8     25.9   16.9  \n",
            "181  33.5   20.2    27.7     24.6   16.5  \n"
          ]
        }
      ]
    },
    {
      "cell_type": "code",
      "source": [
        "# Remove rows with body fat % less than 1\n",
        "df = df[df['BodyFat'] >= 1]\n",
        "\n",
        "# Confirm that rows have been removed\n",
        "print(df[df['BodyFat'] < 1])"
      ],
      "metadata": {
        "colab": {
          "base_uri": "https://localhost:8080/"
        },
        "id": "5igAOoxfFd-W",
        "outputId": "8ed31665-8b82-45ea-d60c-78691e7a5823"
      },
      "execution_count": 9,
      "outputs": [
        {
          "output_type": "stream",
          "name": "stdout",
          "text": [
            "Empty DataFrame\n",
            "Columns: [Density, BodyFat, Age, Weight, Height, Neck, Chest, Abdomen, Hip, Thigh, Knee, Ankle, Biceps, Forearm, Wrist]\n",
            "Index: []\n"
          ]
        }
      ]
    },
    {
      "cell_type": "markdown",
      "source": [
        "# Feature Selection & Engineering"
      ],
      "metadata": {
        "id": "NXwqyyY24VWJ"
      }
    },
    {
      "cell_type": "code",
      "source": [
        "# Visualize distribution of variables\n",
        "# sns.distplot(df['BodyFat']) \n",
        "sns.histplot(df['BodyFat'], kde=False, bins=30)\n",
        "plt.show()"
      ],
      "metadata": {
        "colab": {
          "base_uri": "https://localhost:8080/",
          "height": 279
        },
        "id": "Ov_eqMYOGWTW",
        "outputId": "34b78e27-63b2-48dc-9a30-a3b49b1b7fdc"
      },
      "execution_count": 10,
      "outputs": [
        {
          "output_type": "display_data",
          "data": {
            "text/plain": [
              "<Figure size 432x288 with 1 Axes>"
            ],
            "image/png": "[encoded data removed]"
          },
          "metadata": {
            "needs_background": "light"
          }
        }
      ]
    },
    {
      "cell_type": "code",
      "source": [
        "# Check for correlation between variables\n",
        "corr_matrix = df.corr()\n",
        "sns.heatmap(corr_matrix, annot=True)\n",
        "plt.show()"
      ],
      "metadata": {
        "colab": {
          "base_uri": "https://localhost:8080/",
          "height": 307
        },
        "id": "SUMz3g2ZGYvF",
        "outputId": "937e6e18-079a-4cfe-8100-d48557aba19c"
      },
      "execution_count": 11,
      "outputs": [
        {
          "output_type": "display_data",
          "data": {
            "text/plain": [
              "<Figure size 432x288 with 2 Axes>"
            ],
            "image/png": "[encoded data removed]"
          },
          "metadata": {
            "needs_background": "light"
          }
        }
      ]
    },
    {
      "cell_type": "code",
      "source": [
        "# print(corr_matrix)"
      ],
      "metadata": {
        "id": "FFdA7eBTHRAj"
      },
      "execution_count": 12,
      "outputs": []
    },
    {
      "cell_type": "markdown",
      "source": [
        "Based on the correlation matrix, it seems that there is a high correlation between some of the variables. Specifically, there is a strong correlation between body weight, chest, abdomen, hip, and thigh. Therefore, it might be a good idea to drop some of these variables to avoid multicollinearity, which can negatively impact the performance of our machine learning model. \n",
        "\n",
        "\n",
        "**Dropping the following columns:**\n",
        "\n",
        "\n",
        "* Weight: as it has a strong correlation with other variables such as chest, abdomen, hip, and thigh\n",
        "* Chest: as it has a strong correlation with other variables such as weight, abdomen, hip, and thigh\n",
        "* Thigh: as it has a strong correlation with other variables such as weight, chest, and abdomen\n",
        "\n",
        "\n",
        "\n"
      ],
      "metadata": {
        "id": "_wVmA07zovdm"
      }
    },
    {
      "cell_type": "code",
      "source": [
        "df.drop(['Weight', 'Chest', 'Thigh'], axis=1, inplace=True)\n",
        "df.head()"
      ],
      "metadata": {
        "colab": {
          "base_uri": "https://localhost:8080/",
          "height": 206
        },
        "id": "r8AH7WbnIUX8",
        "outputId": "4bb18909-1d67-413b-cee6-dd8f238654b8"
      },
      "execution_count": 13,
      "outputs": [
        {
          "output_type": "execute_result",
          "data": {
            "text/plain": [
              "   Density  BodyFat  Age  Height  Neck  Abdomen    Hip  Knee  Ankle  Biceps  \\\n",
              "0   1.0708     12.3   23   67.75  36.2     85.2   94.5  37.3   21.9    32.0   \n",
              "1   1.0853      6.1   22   72.25  38.5     83.0   98.7  37.3   23.4    30.5   \n",
              "2   1.0414     25.3   22   66.25  34.0     87.9   99.2  38.9   24.0    28.8   \n",
              "3   1.0751     10.4   26   72.25  37.4     86.4  101.2  37.3   22.8    32.4   \n",
              "4   1.0340     28.7   24   71.25  34.4    100.0  101.9  42.2   24.0    32.2   \n",
              "\n",
              "   Forearm  Wrist  \n",
              "0     27.4   17.1  \n",
              "1     28.9   18.2  \n",
              "2     25.2   16.6  \n",
              "3     29.4   18.2  \n",
              "4     27.7   17.7  "
            ],
            "text/html": [
              "\n",
              "  <div id=\"df-f885f9ea-9684-4140-aab3-011d2b71429d\">\n",
              "    <div class=\"colab-df-container\">\n",
              "      <div>\n",
              "<style scoped>\n",
              "    .dataframe tbody tr th:only-of-type {\n",
              "        vertical-align: middle;\n",
              "    }\n",
              "\n",
              "    .dataframe tbody tr th {\n",
              "        vertical-align: top;\n",
              "    }\n",
              "\n",
              "    .dataframe thead th {\n",
              "        text-align: right;\n",
              "    }\n",
              "</style>\n",
              "<table border=\"1\" class=\"dataframe\">\n",
              "  <thead>\n",
              "    <tr style=\"text-align: right;\">\n",
              "      <th></th>\n",
              "      <th>Density</th>\n",
              "      <th>BodyFat</th>\n",
              "      <th>Age</th>\n",
              "      <th>Height</th>\n",
              "      <th>Neck</th>\n",
              "      <th>Abdomen</th>\n",
              "      <th>Hip</th>\n",
              "      <th>Knee</th>\n",
              "      <th>Ankle</th>\n",
              "      <th>Biceps</th>\n",
              "      <th>Forearm</th>\n",
              "      <th>Wrist</th>\n",
              "    </tr>\n",
              "  </thead>\n",
              "  <tbody>\n",
              "    <tr>\n",
              "      <th>0</th>\n",
              "      <td>1.0708</td>\n",
              "      <td>12.3</td>\n",
              "      <td>23</td>\n",
              "      <td>67.75</td>\n",
              "      <td>36.2</td>\n",
              "      <td>85.2</td>\n",
              "      <td>94.5</td>\n",
              "      <td>37.3</td>\n",
              "      <td>21.9</td>\n",
              "      <td>32.0</td>\n",
              "      <td>27.4</td>\n",
              "      <td>17.1</td>\n",
              "    </tr>\n",
              "    <tr>\n",
              "      <th>1</th>\n",
              "      <td>1.0853</td>\n",
              "      <td>6.1</td>\n",
              "      <td>22</td>\n",
              "      <td>72.25</td>\n",
              "      <td>38.5</td>\n",
              "      <td>83.0</td>\n",
              "      <td>98.7</td>\n",
              "      <td>37.3</td>\n",
              "      <td>23.4</td>\n",
              "      <td>30.5</td>\n",
              "      <td>28.9</td>\n",
              "      <td>18.2</td>\n",
              "    </tr>\n",
              "    <tr>\n",
              "      <th>2</th>\n",
              "      <td>1.0414</td>\n",
              "      <td>25.3</td>\n",
              "      <td>22</td>\n",
              "      <td>66.25</td>\n",
              "      <td>34.0</td>\n",
              "      <td>87.9</td>\n",
              "      <td>99.2</td>\n",
              "      <td>38.9</td>\n",
              "      <td>24.0</td>\n",
              "      <td>28.8</td>\n",
              "      <td>25.2</td>\n",
              "      <td>16.6</td>\n",
              "    </tr>\n",
              "    <tr>\n",
              "      <th>3</th>\n",
              "      <td>1.0751</td>\n",
              "      <td>10.4</td>\n",
              "      <td>26</td>\n",
              "      <td>72.25</td>\n",
              "      <td>37.4</td>\n",
              "      <td>86.4</td>\n",
              "      <td>101.2</td>\n",
              "      <td>37.3</td>\n",
              "      <td>22.8</td>\n",
              "      <td>32.4</td>\n",
              "      <td>29.4</td>\n",
              "      <td>18.2</td>\n",
              "    </tr>\n",
              "    <tr>\n",
              "      <th>4</th>\n",
              "      <td>1.0340</td>\n",
              "      <td>28.7</td>\n",
              "      <td>24</td>\n",
              "      <td>71.25</td>\n",
              "      <td>34.4</td>\n",
              "      <td>100.0</td>\n",
              "      <td>101.9</td>\n",
              "      <td>42.2</td>\n",
              "      <td>24.0</td>\n",
              "      <td>32.2</td>\n",
              "      <td>27.7</td>\n",
              "      <td>17.7</td>\n",
              "    </tr>\n",
              "  </tbody>\n",
              "</table>\n",
              "</div>\n",
              "      <button class=\"colab-df-convert\" onclick=\"convertToInteractive('df-f885f9ea-9684-4140-aab3-011d2b71429d')\"\n",
              "              title=\"Convert this dataframe to an interactive table.\"\n",
              "              style=\"display:none;\">\n",
              "        \n",
              "  <svg xmlns=\"http://www.w3.org/2000/svg\" height=\"24px\"viewBox=\"0 0 24 24\"\n",
              "       width=\"24px\">\n",
              "    <path d=\"M0 0h24v24H0V0z\" fill=\"none\"/>\n",
              "    <path d=\"M18.56 5.44l.94 2.06.94-2.06 2.06-.94-2.06-.94-.94-2.06-.94 2.06-2.06.94zm-11 1L8.5 8.5l.94-2.06 2.06-.94-2.06-.94L8.5 2.5l-.94 2.06-2.06.94zm10 10l.94 2.06.94-2.06 2.06-.94-2.06-.94-.94-2.06-.94 2.06-2.06.94z\"/><path d=\"M17.41 7.96l-1.37-1.37c-.4-.4-.92-.59-1.43-.59-.52 0-1.04.2-1.43.59L10.3 9.45l-7.72 7.72c-.78.78-.78 2.05 0 2.83L4 21.41c.39.39.9.59 1.41.59.51 0 1.02-.2 1.41-.59l7.78-7.78 2.81-2.81c.8-.78.8-2.07 0-2.86zM5.41 20L4 18.59l7.72-7.72 1.47 1.35L5.41 20z\"/>\n",
              "  </svg>\n",
              "      </button>\n",
              "      \n",
              "  <style>\n",
              "    .colab-df-container {\n",
              "      display:flex;\n",
              "      flex-wrap:wrap;\n",
              "      gap: 12px;\n",
              "    }\n",
              "\n",
              "    .colab-df-convert {\n",
              "      background-color: #E8F0FE;\n",
              "      border: none;\n",
              "      border-radius: 50%;\n",
              "      cursor: pointer;\n",
              "      display: none;\n",
              "      fill: #1967D2;\n",
              "      height: 32px;\n",
              "      padding: 0 0 0 0;\n",
              "      width: 32px;\n",
              "    }\n",
              "\n",
              "    .colab-df-convert:hover {\n",
              "      background-color: #E2EBFA;\n",
              "      box-shadow: 0px 1px 2px rgba(60, 64, 67, 0.3), 0px 1px 3px 1px rgba(60, 64, 67, 0.15);\n",
              "      fill: #174EA6;\n",
              "    }\n",
              "\n",
              "    [theme=dark] .colab-df-convert {\n",
              "      background-color: #3B4455;\n",
              "      fill: #D2E3FC;\n",
              "    }\n",
              "\n",
              "    [theme=dark] .colab-df-convert:hover {\n",
              "      background-color: #434B5C;\n",
              "      box-shadow: 0px 1px 3px 1px rgba(0, 0, 0, 0.15);\n",
              "      filter: drop-shadow(0px 1px 2px rgba(0, 0, 0, 0.3));\n",
              "      fill: #FFFFFF;\n",
              "    }\n",
              "  </style>\n",
              "\n",
              "      <script>\n",
              "        const buttonEl =\n",
              "          document.querySelector('#df-f885f9ea-9684-4140-aab3-011d2b71429d button.colab-df-convert');\n",
              "        buttonEl.style.display =\n",
              "          google.colab.kernel.accessAllowed ? 'block' : 'none';\n",
              "\n",
              "        async function convertToInteractive(key) {\n",
              "          const element = document.querySelector('#df-f885f9ea-9684-4140-aab3-011d2b71429d');\n",
              "          const dataTable =\n",
              "            await google.colab.kernel.invokeFunction('convertToInteractive',\n",
              "                                                     [key], {});\n",
              "          if (!dataTable) return;\n",
              "\n",
              "          const docLinkHtml = 'Like what you see? Visit the ' +\n",
              "            '<a target=\"_blank\" href=https://colab.research.google.com/notebooks/data_table.ipynb>data table notebook</a>'\n",
              "            + ' to learn more about interactive tables.';\n",
              "          element.innerHTML = '';\n",
              "          dataTable['output_type'] = 'display_data';\n",
              "          await google.colab.output.renderOutput(dataTable, element);\n",
              "          const docLink = document.createElement('div');\n",
              "          docLink.innerHTML = docLinkHtml;\n",
              "          element.appendChild(docLink);\n",
              "        }\n",
              "      </script>\n",
              "    </div>\n",
              "  </div>\n",
              "  "
            ]
          },
          "metadata": {},
          "execution_count": 13
        }
      ]
    },
    {
      "cell_type": "markdown",
      "source": [
        "# Model Development"
      ],
      "metadata": {
        "id": "BycLol6OSy6H"
      }
    },
    {
      "cell_type": "markdown",
      "source": [
        "Splitting the dataset into training and testing sets"
      ],
      "metadata": {
        "id": "96VR2gy_UT1h"
      }
    },
    {
      "cell_type": "code",
      "source": [
        "# Define the features (X) and target (y)\n",
        "X = df.drop(columns=[\"BodyFat\"])\n",
        "y = df[\"BodyFat\"]\n",
        "\n",
        "# Split the dataset into training and testing sets\n",
        "X_train, X_test, y_train, y_test = train_test_split(X, y, test_size=0.2, random_state=42)"
      ],
      "metadata": {
        "id": "i33Sd-F19Noi"
      },
      "execution_count": 14,
      "outputs": []
    },
    {
      "cell_type": "markdown",
      "source": [
        "Training and evaluating regression models: \n",
        "\n",
        "\n",
        "*   linear regression\n",
        "*   decision trees\n",
        "*   random forests"
      ],
      "metadata": {
        "id": "5XqOjLO7UXpe"
      }
    },
    {
      "cell_type": "code",
      "source": [
        "# Initialize the models\n",
        "lr = LinearRegression()\n",
        "dt = DecisionTreeRegressor()\n",
        "rf = RandomForestRegressor()\n",
        "print(\"Initialized models\")\n",
        "\n",
        "# Train the models\n",
        "lr.fit(X_train, y_train)\n",
        "dt.fit(X_train, y_train)\n",
        "rf.fit(X_train, y_train)\n",
        "print(\"Trained models\")\n",
        "\n",
        "# Make predictions on the test set\n",
        "lr_pred = lr.predict(X_test)\n",
        "dt_pred = dt.predict(X_test)\n",
        "rf_pred = rf.predict(X_test)\n",
        "print(\"Made predictions on test set\")"
      ],
      "metadata": {
        "colab": {
          "base_uri": "https://localhost:8080/"
        },
        "id": "P3MR4pXYTiL7",
        "outputId": "d377492e-9e02-48b1-dc12-b0787ed016c9"
      },
      "execution_count": 15,
      "outputs": [
        {
          "output_type": "stream",
          "name": "stdout",
          "text": [
            "Initialized models\n",
            "Trained models\n",
            "Made predictions on test set\n"
          ]
        }
      ]
    },
    {
      "cell_type": "markdown",
      "source": [
        "### **1. Mean Absolute Error (MAE):** \n",
        "*This metric calculates the average absolute difference between the predicted and actual values. It provides an idea of how far off the predictions are on average.*\n",
        "\n",
        "Pros:\n",
        "\n",
        "    Provides a simple and easy to understand metric for evaluating the performance of a regression model.\n",
        "    MAE is less sensitive to outliers than some other evaluation metrics, such as MSE.\n",
        "\n",
        "Cons:\n",
        "\n",
        "    Ignores the direction of errors and treats positive and negative errors equally.\n",
        "    MAE does not provide any indication of the spread or distribution of errors.\n",
        "\n",
        "### **2. Mean Squared Error (MSE):**\n",
        "*This metric calculates the average of the squared differences between the predicted and actual values. It amplifies larger errors compared to smaller ones.*\n",
        "\n",
        "Pros:\n",
        "\n",
        "    MSE is a widely used and well-understood metric that provides a useful measure of the overall performance of a regression model.\n",
        "    Penalizes larger errors more heavily than smaller errors, which can be desirable in some cases.\n",
        "\n",
        "Cons:\n",
        "\n",
        "    The metric is heavily influenced by outliers, as it squares the errors.\n",
        "    Since MSE is measured in squared units, it can be difficult to interpret in real-world terms.\n",
        "\n",
        "\n",
        "### **3. Root Mean Squared Error (RMSE):**\n",
        "*This metric is the square root of the MSE and provides an estimate of the standard deviation of the errors. It is easier to interpret than MSE because it is in the same units as the target variable.*\n",
        "\n",
        "Pros:\n",
        "\n",
        "    RMSE is widely used and easy to understand, similar to MSE.\n",
        "    Since RMSE is measured in the same units as the target variable, it can be more easily interpreted than MSE.\n",
        "\n",
        "Cons:\n",
        "\n",
        "    Like MSE, RMSE is sensitive to outliers.\n",
        "    The metric can be heavily influenced by large errors, which can skew the results.\n",
        "\n",
        "### **4. R-squared (R2):** \n",
        "*This metric measures the proportion of variance in the target variable that is explained by the model. It ranges from 0 to 1, with a higher value indicating a better fit. However, it can be misleading if used alone because it does not provide information on the size of the errors or whether the model assumptions are met.*\n",
        "\n",
        "Pros:\n",
        "\n",
        "    Provides a measure of how well the model fits the data and explains the variability in the target variable.\n",
        "    Can be interpreted as the percentage of variation in the target variable that is explained by the model.\n",
        "\n",
        "Cons:\n",
        "\n",
        "    R-squared does not provide any information on the direction or magnitude of errors.\n",
        "    Can be misleading if the model is overfitting the data, resulting in a high R-squared value that does not generalize well to new data."
      ],
      "metadata": {
        "id": "wTrCYeTzZL9V"
      }
    },
    {
      "cell_type": "code",
      "source": [
        "from sklearn.metrics import mean_absolute_error, mean_squared_error, r2_score\n",
        "\n",
        "# Calculate MAE, MSE, and RMSE for each model\n",
        "lr_mae = mean_absolute_error(y_test, lr_pred)\n",
        "lr_mse = mean_squared_error(y_test, lr_pred)\n",
        "lr_rmse = np.sqrt(lr_mse)\n",
        "lr_r2 = r2_score(y_test, lr_pred)\n",
        "\n",
        "dt_mae = mean_absolute_error(y_test, dt_pred)\n",
        "dt_mse = mean_squared_error(y_test, dt_pred)\n",
        "dt_rmse = np.sqrt(dt_mse)\n",
        "dt_r2 = r2_score(y_test, dt_pred)\n",
        "\n",
        "rf_mae = mean_absolute_error(y_test, rf_pred)\n",
        "rf_mse = mean_squared_error(y_test, rf_pred)\n",
        "rf_rmse = np.sqrt(rf_mse)\n",
        "rf_r2 = r2_score(y_test, rf_pred)\n",
        "\n",
        "# Print the metrics for each model\n",
        "print(\"Linear Regression:\")\n",
        "print(\"MAE:\", lr_mae)\n",
        "print(\"MSE:\", lr_mse)\n",
        "print(\"RMSE:\", lr_rmse)\n",
        "print(\"R-squared:\", lr_r2)\n",
        "print()\n",
        "\n",
        "print(\"Decision Tree Regressor:\")\n",
        "print(\"MAE:\", dt_mae)\n",
        "print(\"MSE:\", dt_mse)\n",
        "print(\"RMSE:\", dt_rmse)\n",
        "print(\"R-squared:\", dt_r2)\n",
        "print()\n",
        "\n",
        "print(\"Random Forest Regressor:\")\n",
        "print(\"MAE:\", rf_mae)\n",
        "print(\"MSE:\", rf_mse)\n",
        "print(\"RMSE:\", rf_rmse)\n",
        "print(\"R-squared:\", rf_r2)\n",
        "print()"
      ],
      "metadata": {
        "colab": {
          "base_uri": "https://localhost:8080/"
        },
        "id": "A7OiTn81WEvh",
        "outputId": "90dc74c3-2937-4bab-88ff-fbf03d712cd4"
      },
      "execution_count": 16,
      "outputs": [
        {
          "output_type": "stream",
          "name": "stdout",
          "text": [
            "Linear Regression:\n",
            "MAE: 0.4539279002244141\n",
            "MSE: 0.3605813484347868\n",
            "RMSE: 0.6004842616045709\n",
            "R-squared: 0.9937592361776237\n",
            "\n",
            "Decision Tree Regressor:\n",
            "MAE: 0.48799999999999977\n",
            "MSE: 1.9736000000000002\n",
            "RMSE: 1.4048487463068757\n",
            "R-squared: 0.965841906317932\n",
            "\n",
            "Random Forest Regressor:\n",
            "MAE: 0.21464000000000005\n",
            "MSE: 0.14493752000000096\n",
            "RMSE: 0.3807066061943251\n",
            "R-squared: 0.9974914930146906\n",
            "\n"
          ]
        }
      ]
    },
    {
      "cell_type": "markdown",
      "source": [
        "## Results\n",
        "\n",
        "*Lower values of MAE indicate better performance.*\n",
        "\n",
        "*Lower values of MSE indicate better performance.*\n",
        "\n",
        "*Lower values of RMSE indicate better performance.*\n",
        "\n",
        "*R2 values range from 0 to 1, with higher values indicating better performance.*\n",
        "\n",
        "\n",
        "\n",
        "---\n",
        "\n",
        "\n",
        "\n",
        "---\n",
        "\n",
        "\n",
        "\n",
        "The **Random Forest Regressor outperforms the other model**s in terms of all the evaluation metrics. It has the lowest MAE, MSE, and RMSE values, and the highest R2 value. \n",
        "\n",
        "The **Linear Regression model also performed well**, with high R2 value and relatively low MAE, MSE, and RMSE values. \n",
        "\n",
        "The **Decision Tree Regressor performed the worst** among the three models, with the highest MAE, MSE, and RMSE values, and a relatively lower R2 value compared to the other models.\n"
      ],
      "metadata": {
        "id": "NqPTl9oycEOf"
      }
    },
    {
      "cell_type": "markdown",
      "source": [
        "## Bayesian Analysis"
      ],
      "metadata": {
        "id": "mbJZMwdTfQiZ"
      }
    },
    {
      "cell_type": "code",
      "source": [
        "from sklearn.linear_model import BayesianRidge\n",
        "from sklearn.metrics import mean_absolute_error, mean_squared_error, r2_score\n",
        "\n",
        "# Initialize the Bayesian Ridge model\n",
        "br = BayesianRidge()\n",
        "\n",
        "# Train the model\n",
        "br.fit(X_train, y_train)\n",
        "\n",
        "# Make predictions on the test set\n",
        "br_pred = br.predict(X_test)\n",
        "\n",
        "# Calculate the metrics\n",
        "br_mae = mean_absolute_error(y_test, br_pred)\n",
        "br_mse = mean_squared_error(y_test, br_pred)\n",
        "br_rmse = np.sqrt(br_mse)\n",
        "br_r2 = r2_score(y_test, br_pred)\n",
        "\n",
        "# Print the metrics for the Bayesian Ridge model\n",
        "print(\"Bayesian Ridge:\")\n",
        "print(\"MAE:\", br_mae)\n",
        "print(\"MSE:\", br_mse)\n",
        "print(\"RMSE:\", br_rmse)\n",
        "print(\"R-squared:\", br_r2)\n",
        "print()"
      ],
      "metadata": {
        "colab": {
          "base_uri": "https://localhost:8080/"
        },
        "id": "Mu0gg6nnWje3",
        "outputId": "7e444d77-c333-477a-cc7b-f95b62ae279d"
      },
      "execution_count": 17,
      "outputs": [
        {
          "output_type": "stream",
          "name": "stdout",
          "text": [
            "Bayesian Ridge:\n",
            "MAE: 3.802335303536388\n",
            "MSE: 23.53027898012574\n",
            "RMSE: 4.850801890422422\n",
            "R-squared: 0.5927495572718222\n",
            "\n"
          ]
        }
      ]
    },
    {
      "cell_type": "markdown",
      "source": [
        "## Model Evaluation and Validation\n",
        "### Random Forest Regressor"
      ],
      "metadata": {
        "id": "8g-K8I5l4OD7"
      }
    },
    {
      "cell_type": "markdown",
      "source": [
        "Evaluating the performance of the selected model on the test set using metrics like Mean Absolute Error (MAE), Mean Squared Error (MSE), and R-squared helps to determine how well the model is performing on unseen data.\n",
        "\n",
        "Calculations from model development: \n",
        "\n",
        "Random Forest Regressor:\n",
        "* MAE: 0.21464000000000005\n",
        "* MSE: 0.14493752000000096\n",
        "* RMSE: 0.3807066061943251\n",
        "* R-squared: 0.9974914930146906"
      ],
      "metadata": {
        "id": "AMAYcRyl5E1M"
      }
    },
    {
      "cell_type": "code",
      "source": [
        "# Make predictions on the test set using the selected model\n",
        "y_pred = rf.predict(X_test)\n",
        "\n",
        "# Calculate MAE, MSE, and R-squared for the predictions\n",
        "mae = mean_absolute_error(y_test, y_pred)\n",
        "mse = mean_squared_error(y_test, y_pred)\n",
        "rmse = np.sqrt(mse)\n",
        "r2 = r2_score(y_test, y_pred)\n",
        "\n",
        "# Print the evaluation metrics\n",
        "print(\"Mean Absolute Error (MAE):\", mae)\n",
        "print(\"Mean Squared Error (MSE):\", mse)\n",
        "print(\"Root Mean Squared Error (RMSE):\", rmse)\n",
        "print(\"R-squared (R2):\", r2)"
      ],
      "metadata": {
        "colab": {
          "base_uri": "https://localhost:8080/"
        },
        "id": "3UAjF0YOe-Re",
        "outputId": "34ad5237-2902-471d-b0b6-69d48471a686"
      },
      "execution_count": 18,
      "outputs": [
        {
          "output_type": "stream",
          "name": "stdout",
          "text": [
            "Mean Absolute Error (MAE): 0.21464000000000005\n",
            "Mean Squared Error (MSE): 0.14493752000000096\n",
            "Root Mean Squared Error (RMSE): 0.3807066061943251\n",
            "R-squared (R2): 0.9974914930146906\n"
          ]
        }
      ]
    },
    {
      "cell_type": "markdown",
      "source": [
        "Performing a residual analysis to ensure the assumptions of the regression model are met helps to check whether the model is capturing all of the relevant information and that the model is not biased in any way."
      ],
      "metadata": {
        "id": "AnrBzua15G9D"
      }
    },
    {
      "cell_type": "code",
      "source": [
        "# Make predictions on the test set using the selected model\n",
        "y_pred = rf.predict(X_test)"
      ],
      "metadata": {
        "id": "w6E3Kfi55Jix"
      },
      "execution_count": 19,
      "outputs": []
    },
    {
      "cell_type": "code",
      "source": [
        "# Calculate the residuals as the difference between actual and predicted values\n",
        "residuals = y_test - y_pred"
      ],
      "metadata": {
        "id": "14_D_Wfp8lfE"
      },
      "execution_count": 20,
      "outputs": []
    },
    {
      "cell_type": "code",
      "source": [
        "# Plot a histogram of the residuals to check for normality\n",
        "sns.histplot(residuals, kde=True)\n",
        "plt.title(\"Residuals Histogram\")\n",
        "plt.xlabel(\"Residuals\")\n",
        "plt.show()"
      ],
      "metadata": {
        "id": "-Ig7ucvq8oQy"
      },
      "execution_count": null,
      "outputs": []
    },
    {
      "cell_type": "markdown",
      "source": [
        "*My residuals histogram is slightly skewed to the right, it could indicate that my model is underestimating the target variable slightly. This means that the model is slightly biased towards lower values and may need further tuning or feature engineering to improve its performance. However, because the skewness is not too significant, my model may still be considered acceptable for practical use.*"
      ],
      "metadata": {
        "id": "iWYUxV9I9jcp"
      }
    },
    {
      "cell_type": "code",
      "source": [
        "# Plot a scatterplot of actual vs. predicted values to check for linearity and heteroscedasticity\n",
        "sns.scatterplot(x=y_test, y=y_pred)\n",
        "plt.title(\"Actual vs. Predicted Values\")\n",
        "plt.xlabel(\"Actual Body Fat %\")\n",
        "plt.ylabel(\"Predicted Body Fat %\")\n",
        "plt.show()"
      ],
      "metadata": {
        "colab": {
          "base_uri": "https://localhost:8080/",
          "height": 295
        },
        "id": "ptGd_x7D8s6Q",
        "outputId": "5c1a5d20-a41d-44ea-add5-6efa8d3369ea"
      },
      "execution_count": 22,
      "outputs": [
        {
          "output_type": "display_data",
          "data": {
            "text/plain": [
              "<Figure size 432x288 with 1 Axes>"
            ],
            "image/png": "[encoded data removed]"
          },
          "metadata": {
            "needs_background": "light"
          }
        }
      ]
    },
    {
      "cell_type": "markdown",
      "source": [
        "*The scatterplot of actual vs. predicted values suggests that the model performs well in predicting body fat percentage. The points are closely clustered around a diagonal line, indicating a strong linear relationship between the predicted and actual values. Additionally, the scatterplot does not show any patterns that suggest heteroscedasticity, meaning that the variance of the errors is roughly constant across all levels of predicted values. Overall, the scatterplot shows that the model fits the data well and captures the underlying relationship between the predictors and the response variable.*"
      ],
      "metadata": {
        "id": "8O-2EAH5-V95"
      }
    },
    {
      "cell_type": "markdown",
      "source": [
        "Validating the model using k-fold cross-validation to ensure its robustness and generalization capability helps to check whether the model is able to perform well on new, unseen data and is not overfitting to the training data."
      ],
      "metadata": {
        "id": "OII-Br2j5KZp"
      }
    },
    {
      "cell_type": "code",
      "source": [
        "# Define the model\n",
        "model = RandomForestRegressor()\n",
        "\n",
        "# Perform k-fold cross-validation\n",
        "scores = cross_val_score(model, X, y, cv=5, scoring='neg_mean_squared_error')\n",
        "\n",
        "# Calculate the mean and standard deviation of the scores\n",
        "mean_score = -scores.mean()\n",
        "std_score = scores.std()\n",
        "\n",
        "# Print the mean and standard deviation of the scores\n",
        "print(f\"Mean score: {mean_score:.4f}\")\n",
        "print(f\"Standard deviation: {std_score:.4f}\")"
      ],
      "metadata": {
        "colab": {
          "base_uri": "https://localhost:8080/"
        },
        "id": "nx29pCXS5O3C",
        "outputId": "ada89102-9c66-4800-e3fe-96b70628a0e6"
      },
      "execution_count": 23,
      "outputs": [
        {
          "output_type": "stream",
          "name": "stdout",
          "text": [
            "Mean score: 2.2527\n",
            "Standard deviation: 2.1534\n"
          ]
        }
      ]
    },
    {
      "cell_type": "markdown",
      "source": [
        "Grid search to test different hyperparameters"
      ],
      "metadata": {
        "id": "wcq8K68FBlND"
      }
    },
    {
      "cell_type": "code",
      "source": [
        "from sklearn.model_selection import GridSearchCV\n",
        "\n",
        "# Define the model\n",
        "model = RandomForestRegressor()\n",
        "\n",
        "# Define the grid of hyperparameter values to test\n",
        "param_grid = {\n",
        "    'n_estimators': [25, 50, 75, 100, 200],\n",
        "    'max_depth': [None, 2, 5, 7, 10],\n",
        "    'min_samples_split': [2, 3, 5, 7, 10],\n",
        "    'min_samples_leaf': [1, 2, 3, 4]\n",
        "}\n",
        "\n",
        "# Perform grid search with 5-fold cross-validation\n",
        "grid_search = GridSearchCV(model, param_grid, cv=5, scoring='neg_mean_squared_error')\n",
        "grid_search.fit(X, y)\n",
        "\n",
        "# Print the best hyperparameters and score\n",
        "print(f\"Best parameters: {grid_search.best_params_}\")\n",
        "print(f\"Best score: {-grid_search.best_score_:.4f}\")"
      ],
      "metadata": {
        "colab": {
          "base_uri": "https://localhost:8080/"
        },
        "id": "kzn58BoA_9i9",
        "outputId": "176a4d61-3c67-4ee4-d0fe-ef0e9bfd3505"
      },
      "execution_count": 34,
      "outputs": [
        {
          "output_type": "stream",
          "name": "stdout",
          "text": [
            "Best parameters: {'max_depth': 7, 'min_samples_leaf': 2, 'min_samples_split': 7, 'n_estimators': 50}\n",
            "Best score: 1.8011\n"
          ]
        }
      ]
    },
    {
      "cell_type": "code",
      "source": [
        "# Define the model with the best hyperparameters\n",
        "best_model = RandomForestRegressor(max_depth=7, min_samples_leaf=2, min_samples_split=7, n_estimators=50)\n",
        "\n",
        "# Fit the model to the entire dataset\n",
        "best_model.fit(X, y)\n",
        "\n",
        "# Split the data into training and testing sets\n",
        "X_train, X_test, y_train, y_test = train_test_split(X, y, test_size=0.2, random_state=42)\n",
        "\n",
        "# Make predictions on the testing set using the trained model\n",
        "y_pred = best_model.predict(X_test)\n",
        "\n",
        "# Calculate the accuracy of the model using mean absolute error\n",
        "mae = mean_absolute_error(y_test, y_pred)\n",
        "print(f\"Mean absolute error: {mae:.4f}\")"
      ],
      "metadata": {
        "colab": {
          "base_uri": "https://localhost:8080/"
        },
        "id": "kVl2x_ZvBcKK",
        "outputId": "f1e334bb-3c4e-4a94-edd9-11a68910b33c"
      },
      "execution_count": 36,
      "outputs": [
        {
          "output_type": "stream",
          "name": "stdout",
          "text": [
            "Mean absolute error: 0.1081\n"
          ]
        }
      ]
    },
    {
      "cell_type": "markdown",
      "source": [
        "The lower the mean absolute error, the better."
      ],
      "metadata": {
        "id": "caZGAGFbEpYc"
      }
    },
    {
      "cell_type": "markdown",
      "source": [
        "### Testing on the test set"
      ],
      "metadata": {
        "id": "1sTqf0kSGMdx"
      }
    },
    {
      "cell_type": "code",
      "source": [
        "# Define the model with the best hyperparameters\n",
        "best_model = RandomForestRegressor(max_depth=7, min_samples_leaf=2, min_samples_split=7, n_estimators=50)\n",
        "\n",
        "# Fit the model to the training set\n",
        "best_model.fit(X_train, y_train)\n",
        "\n",
        "# Make predictions on the testing set using the trained model\n",
        "y_pred = best_model.predict(X_test)\n",
        "\n",
        "# Calculate the accuracy of the model using mean absolute error\n",
        "mae = mean_absolute_error(y_test, y_pred)\n",
        "print(f\"Mean absolute error: {mae:.4f}\")\n"
      ],
      "metadata": {
        "colab": {
          "base_uri": "https://localhost:8080/"
        },
        "id": "xSioErU5ElB3",
        "outputId": "904fc71d-a4fd-404e-b0ad-7d6ed980170c"
      },
      "execution_count": 38,
      "outputs": [
        {
          "output_type": "stream",
          "name": "stdout",
          "text": [
            "Mean absolute error: 0.2673\n"
          ]
        }
      ]
    },
    {
      "cell_type": "markdown",
      "source": [
        "I have overtrained the data because testing the test set gave the mean absolute error as 0.2673 but mean absolute error using best parameters earlier was 0.1081. \n",
        "\n",
        "To fix this problem, I will prune the decision tree and test the model iteratively until the mean absolute error is close to the best hyperparameters. "
      ],
      "metadata": {
        "id": "5wf2laghPC3h"
      }
    },
    {
      "cell_type": "code",
      "source": [
        "# Define the hyperparameters to use\n",
        "max_depth = 7\n",
        "min_samples_split = 7\n",
        "min_samples_leaf = 2\n",
        "n_estimators = 50\n",
        "\n",
        "# Create a new model with the specified hyperparameters\n",
        "model = RandomForestRegressor(max_depth=max_depth, min_samples_leaf=min_samples_leaf, min_samples_split=min_samples_split, n_estimators=n_estimators)\n",
        "\n",
        "# Train the model on the training set\n",
        "model.fit(X_train, y_train)\n",
        "\n",
        "# Make predictions on the test set using the trained model\n",
        "y_pred = model.predict(X_test)\n",
        "\n",
        "# Calculate the mean absolute error of the model\n",
        "mae = mean_absolute_error(y_test, y_pred)\n",
        "\n",
        "# Set a maximum number of iterations to prevent an infinite loop\n",
        "max_iterations = 100\n",
        "\n",
        "# Set a tolerance for the closest MAE found\n",
        "tolerance = 0.01\n",
        "\n",
        "# Iterate over different hyperparameter values to prune the model\n",
        "closest_mae = mae\n",
        "for i in range(max_iterations):\n",
        "    # Increase max_depth and min_samples_split\n",
        "    max_depth += 1\n",
        "    min_samples_split += 1\n",
        "    \n",
        "    # Fit the model with the new hyperparameters\n",
        "    model = RandomForestRegressor(max_depth=max_depth, min_samples_leaf=min_samples_leaf, min_samples_split=min_samples_split, n_estimators=n_estimators)\n",
        "    model.fit(X_train, y_train)\n",
        "    \n",
        "    # Evaluate the model on the test set\n",
        "    y_pred = model.predict(X_test)\n",
        "    mae = mean_absolute_error(y_test, y_pred)\n",
        "    \n",
        "    # Check if the MAE is lower than the target MAE\n",
        "    if mae < 0.1081:\n",
        "        print(f\"Pruned model hyperparameters: max_depth={max_depth}, min_samples_split={min_samples_split}, min_samples_leaf={min_samples_leaf}, n_estimators={n_estimators}\")\n",
        "        print(f\"Pruned model mean absolute error: {mae:.4f}\")\n",
        "        break\n",
        "    \n",
        "    # Check if the current MAE is closer to the target MAE than the previous closest MAE\n",
        "    if abs(mae - 0.1081) < abs(closest_mae - 0.1081):\n",
        "        closest_mae = mae\n",
        "        \n",
        "    # Check if the maximum number of iterations has been reached\n",
        "    if i == max_iterations - 1:\n",
        "        print(f\"Could not find a hyperparameter combination with an MAE lower than 0.1081.\")\n",
        "        print(f\"Closest MAE: {closest_mae:.4f}\")"
      ],
      "metadata": {
        "colab": {
          "base_uri": "https://localhost:8080/"
        },
        "id": "Xhi4oq02GR2U",
        "outputId": "a69186ee-05f1-442d-fa28-77957b790282"
      },
      "execution_count": 41,
      "outputs": [
        {
          "output_type": "stream",
          "name": "stdout",
          "text": [
            "Could not find a hyperparameter combination with an MAE lower than 0.1081.\n",
            "Closest MAE: 0.2269\n"
          ]
        }
      ]
    },
    {
      "cell_type": "markdown",
      "source": [
        "After trying to prune the decision tree, it appears that the default hyperparameters provided by scikit-learn work well for this dataset. Therefore, I will be using the default values instead of the pruned tree."
      ],
      "metadata": {
        "id": "rVo_5P1fVgbX"
      }
    },
    {
      "cell_type": "code",
      "source": [
        "model = RandomForestRegressor()  # Using default hyperparameters\n",
        "model.fit(X_train, y_train)\n",
        "\n",
        "# Make predictions on the testing set using the trained model\n",
        "y_pred = model.predict(X_test)\n",
        "\n",
        "# Calculate the accuracy of the model using mean absolute error\n",
        "mae = mean_absolute_error(y_test, y_pred)\n",
        "print(f\"Mean absolute error: {mae:.4f}\")\n"
      ],
      "metadata": {
        "colab": {
          "base_uri": "https://localhost:8080/"
        },
        "id": "RjRT0BRRXX2k",
        "outputId": "1d44c765-db9b-449e-816f-061251fda562"
      },
      "execution_count": 65,
      "outputs": [
        {
          "output_type": "stream",
          "name": "stdout",
          "text": [
            "Mean absolute error: 0.1570\n"
          ]
        }
      ]
    },
    {
      "cell_type": "markdown",
      "source": [
        "'Mean absolute error: 0.1570' is a better result than 'Closest MAE: 0.2269'"
      ],
      "metadata": {
        "id": "qXm1naYFXkFS"
      }
    },
    {
      "cell_type": "markdown",
      "source": [
        "Saving the best model"
      ],
      "metadata": {
        "id": "hiWZCPRCSkO7"
      }
    },
    {
      "cell_type": "code",
      "source": [
        "# Define the model with the best hyperparameters\n",
        "best_model = RandomForestRegressor()\n",
        "\n",
        "# Fit the model to the entire dataset\n",
        "best_model.fit(X, y)\n",
        "\n",
        "# Save the model as a file\n",
        "import joblib\n",
        "filename = 'best_model.joblib'\n",
        "joblib.dump(best_model, filename)\n",
        "\n",
        "# Download the file to local machine\n",
        "from google.colab import files\n",
        "files.download(filename)"
      ],
      "metadata": {
        "colab": {
          "base_uri": "https://localhost:8080/",
          "height": 17
        },
        "id": "YX40XTaqQEfl",
        "outputId": "5a270fdf-35ae-479d-8af8-48c85e47c6e0"
      },
      "execution_count": 47,
      "outputs": [
        {
          "output_type": "display_data",
          "data": {
            "text/plain": [
              "<IPython.core.display.Javascript object>"
            ],
            "application/javascript": [
              "\n",
              "    async function download(id, filename, size) {\n",
              "      if (!google.colab.kernel.accessAllowed) {\n",
              "        return;\n",
              "      }\n",
              "      const div = document.createElement('div');\n",
              "      const label = document.createElement('label');\n",
              "      label.textContent = `Downloading \"${filename}\": `;\n",
              "      div.appendChild(label);\n",
              "      const progress = document.createElement('progress');\n",
              "      progress.max = size;\n",
              "      div.appendChild(progress);\n",
              "      document.body.appendChild(div);\n",
              "\n",
              "      const buffers = [];\n",
              "      let downloaded = 0;\n",
              "\n",
              "      const channel = await google.colab.kernel.comms.open(id);\n",
              "      // Send a message to notify the kernel that we're ready.\n",
              "      channel.send({})\n",
              "\n",
              "      for await (const message of channel.messages) {\n",
              "        // Send a message to notify the kernel that we're ready.\n",
              "        channel.send({})\n",
              "        if (message.buffers) {\n",
              "          for (const buffer of message.buffers) {\n",
              "            buffers.push(buffer);\n",
              "            downloaded += buffer.byteLength;\n",
              "            progress.value = downloaded;\n",
              "          }\n",
              "        }\n",
              "      }\n",
              "      const blob = new Blob(buffers, {type: 'application/binary'});\n",
              "      const a = document.createElement('a');\n",
              "      a.href = window.URL.createObjectURL(blob);\n",
              "      a.download = filename;\n",
              "      div.appendChild(a);\n",
              "      a.click();\n",
              "      div.remove();\n",
              "    }\n",
              "  "
            ]
          },
          "metadata": {}
        },
        {
          "output_type": "display_data",
          "data": {
            "text/plain": [
              "<IPython.core.display.Javascript object>"
            ],
            "application/javascript": [
              "download(\"download_83a5e61e-6c61-4703-8170-247ad5d999e8\", \"best_model.joblib\", 1736592)"
            ]
          },
          "metadata": {}
        }
      ]
    }
  ]
}